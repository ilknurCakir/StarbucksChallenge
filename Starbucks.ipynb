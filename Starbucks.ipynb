{
 "cells": [
  {
   "cell_type": "markdown",
   "metadata": {},
   "source": [
    "## Portfolio Exercise: Starbucks\n",
    "<br>\n",
    "\n",
    "<img src=\"https://opj.ca/wp-content/uploads/2018/02/New-Starbucks-Logo-1200x969.jpg\" width=\"200\" height=\"200\">\n",
    "<br>\n",
    "<br>\n",
    " \n",
    "#### Background Information\n",
    "\n",
    "The dataset you will be provided in this portfolio exercise was originally used as a take-home assignment provided by Starbucks for their job candidates. The data for this exercise consists of about 120,000 data points split in a 2:1 ratio among training and test files. In the experiment simulated by the data, an advertising promotion was tested to see if it would bring more customers to purchase a specific product priced at $10. Since it costs the company 0.15 to send out each promotion, it would be best to limit that promotion only to those that are most receptive to the promotion. Each data point includes one column indicating whether or not an individual was sent a promotion for the product, and one column indicating whether or not that individual eventually purchased that product. Each individual also has seven additional features associated with them, which are provided abstractly as V1-V7.\n",
    "\n",
    "#### Optimization Strategy\n",
    "\n",
    "Your task is to use the training data to understand what patterns in V1-V7 to indicate that a promotion should be provided to a user. Specifically, your goal is to maximize the following metrics:\n",
    "\n",
    "* **Incremental Response Rate (IRR)** \n",
    "\n",
    "IRR depicts how many more customers purchased the product with the promotion, as compared to if they didn't receive the promotion. Mathematically, it's the ratio of the number of purchasers in the promotion group to the total number of customers in the purchasers group (_treatment_) minus the ratio of the number of purchasers in the non-promotional group to the total number of customers in the non-promotional group (_control_).\n",
    "\n",
    "$$ IRR = \\frac{purch_{treat}}{cust_{treat}} - \\frac{purch_{ctrl}}{cust_{ctrl}} $$\n",
    "\n",
    "\n",
    "* **Net Incremental Revenue (NIR)**\n",
    "\n",
    "NIR depicts how much is made (or lost) by sending out the promotion. Mathematically, this is 10 times the total number of purchasers that received the promotion minus 0.15 times the number of promotions sent out, minus 10 times the number of purchasers who were not given the promotion.\n",
    "\n",
    "$$ NIR = (10\\cdot purch_{treat} - 0.15 \\cdot cust_{treat}) - 10 \\cdot purch_{ctrl}$$\n",
    "\n",
    "For a full description of what Starbucks provides to candidates see the [instructions available here](https://drive.google.com/open?id=18klca9Sef1Rs6q8DW4l7o349r8B70qXM).\n",
    "\n",
    "Below you can find the training data provided.  Explore the data and different optimization strategies.\n",
    "\n",
    "#### How To Test Your Strategy?\n",
    "\n",
    "When you feel like you have an optimization strategy, complete the `promotion_strategy` function to pass to the `test_results` function.  \n",
    "From past data, we know there are four possible outomes:\n",
    "\n",
    "Table of actual promotion vs. predicted promotion customers:  \n",
    "\n",
    "<table>\n",
    "<tr><th></th><th colspan = '2'>Actual</th></tr>\n",
    "<tr><th>Predicted</th><th>Yes</th><th>No</th></tr>\n",
    "<tr><th>Yes</th><td>I</td><td>II</td></tr>\n",
    "<tr><th>No</th><td>III</td><td>IV</td></tr>\n",
    "</table>\n",
    "\n",
    "The metrics are only being compared for the individuals we predict should obtain the promotion – that is, quadrants I and II.  Since the first set of individuals that receive the promotion (in the training set) receive it randomly, we can expect that quadrants I and II will have approximately equivalent participants.  \n",
    "\n",
    "Comparing quadrant I to II then gives an idea of how well your promotion strategy will work in the future. \n",
    "\n",
    "Get started by reading in the data below.  See how each variable or combination of variables along with a promotion influences the chance of purchasing.  When you feel like you have a strategy for who should receive a promotion, test your strategy against the test dataset used in the final `test_results` function."
   ]
  },
  {
   "cell_type": "code",
   "execution_count": 3,
   "metadata": {},
   "outputs": [
    {
     "data": {
      "text/html": [
       "<div>\n",
       "<style>\n",
       "    .dataframe thead tr:only-child th {\n",
       "        text-align: right;\n",
       "    }\n",
       "\n",
       "    .dataframe thead th {\n",
       "        text-align: left;\n",
       "    }\n",
       "\n",
       "    .dataframe tbody tr th {\n",
       "        vertical-align: top;\n",
       "    }\n",
       "</style>\n",
       "<table border=\"1\" class=\"dataframe\">\n",
       "  <thead>\n",
       "    <tr style=\"text-align: right;\">\n",
       "      <th></th>\n",
       "      <th>ID</th>\n",
       "      <th>Promotion</th>\n",
       "      <th>purchase</th>\n",
       "      <th>V1</th>\n",
       "      <th>V2</th>\n",
       "      <th>V3</th>\n",
       "      <th>V4</th>\n",
       "      <th>V5</th>\n",
       "      <th>V6</th>\n",
       "      <th>V7</th>\n",
       "    </tr>\n",
       "  </thead>\n",
       "  <tbody>\n",
       "    <tr>\n",
       "      <th>0</th>\n",
       "      <td>1</td>\n",
       "      <td>No</td>\n",
       "      <td>0</td>\n",
       "      <td>2</td>\n",
       "      <td>30.443518</td>\n",
       "      <td>-1.165083</td>\n",
       "      <td>1</td>\n",
       "      <td>1</td>\n",
       "      <td>3</td>\n",
       "      <td>2</td>\n",
       "    </tr>\n",
       "    <tr>\n",
       "      <th>1</th>\n",
       "      <td>3</td>\n",
       "      <td>No</td>\n",
       "      <td>0</td>\n",
       "      <td>3</td>\n",
       "      <td>32.159350</td>\n",
       "      <td>-0.645617</td>\n",
       "      <td>2</td>\n",
       "      <td>3</td>\n",
       "      <td>2</td>\n",
       "      <td>2</td>\n",
       "    </tr>\n",
       "    <tr>\n",
       "      <th>2</th>\n",
       "      <td>4</td>\n",
       "      <td>No</td>\n",
       "      <td>0</td>\n",
       "      <td>2</td>\n",
       "      <td>30.431659</td>\n",
       "      <td>0.133583</td>\n",
       "      <td>1</td>\n",
       "      <td>1</td>\n",
       "      <td>4</td>\n",
       "      <td>2</td>\n",
       "    </tr>\n",
       "    <tr>\n",
       "      <th>3</th>\n",
       "      <td>5</td>\n",
       "      <td>No</td>\n",
       "      <td>0</td>\n",
       "      <td>0</td>\n",
       "      <td>26.588914</td>\n",
       "      <td>-0.212728</td>\n",
       "      <td>2</td>\n",
       "      <td>1</td>\n",
       "      <td>4</td>\n",
       "      <td>2</td>\n",
       "    </tr>\n",
       "    <tr>\n",
       "      <th>4</th>\n",
       "      <td>8</td>\n",
       "      <td>Yes</td>\n",
       "      <td>0</td>\n",
       "      <td>3</td>\n",
       "      <td>28.044332</td>\n",
       "      <td>-0.385883</td>\n",
       "      <td>1</td>\n",
       "      <td>1</td>\n",
       "      <td>2</td>\n",
       "      <td>2</td>\n",
       "    </tr>\n",
       "  </tbody>\n",
       "</table>\n",
       "</div>"
      ],
      "text/plain": [
       "   ID Promotion  purchase  V1         V2        V3  V4  V5  V6  V7\n",
       "0   1        No         0   2  30.443518 -1.165083   1   1   3   2\n",
       "1   3        No         0   3  32.159350 -0.645617   2   3   2   2\n",
       "2   4        No         0   2  30.431659  0.133583   1   1   4   2\n",
       "3   5        No         0   0  26.588914 -0.212728   2   1   4   2\n",
       "4   8       Yes         0   3  28.044332 -0.385883   1   1   2   2"
      ]
     },
     "execution_count": 3,
     "metadata": {},
     "output_type": "execute_result"
    }
   ],
   "source": [
    "# load in packages\n",
    "from itertools import combinations\n",
    "\n",
    "from test_results import test_results, score\n",
    "import numpy as np\n",
    "import pandas as pd\n",
    "import scipy as sp\n",
    "import sklearn as sk\n",
    "\n",
    "import matplotlib.pyplot as plt\n",
    "import seaborn as sb\n",
    "%matplotlib inline\n",
    "\n",
    "# load in the data\n",
    "train_data = pd.read_csv('./training.csv')\n",
    "train_data.head()"
   ]
  },
  {
   "cell_type": "code",
   "execution_count": 4,
   "metadata": {},
   "outputs": [
    {
     "data": {
      "text/html": [
       "<div>\n",
       "<style>\n",
       "    .dataframe thead tr:only-child th {\n",
       "        text-align: right;\n",
       "    }\n",
       "\n",
       "    .dataframe thead th {\n",
       "        text-align: left;\n",
       "    }\n",
       "\n",
       "    .dataframe tbody tr th {\n",
       "        vertical-align: top;\n",
       "    }\n",
       "</style>\n",
       "<table border=\"1\" class=\"dataframe\">\n",
       "  <thead>\n",
       "    <tr style=\"text-align: right;\">\n",
       "      <th></th>\n",
       "      <th>purchase</th>\n",
       "      <th>V1</th>\n",
       "      <th>V2</th>\n",
       "      <th>V3</th>\n",
       "      <th>V4</th>\n",
       "      <th>V5</th>\n",
       "      <th>V6</th>\n",
       "      <th>V7</th>\n",
       "      <th>pro</th>\n",
       "    </tr>\n",
       "  </thead>\n",
       "  <tbody>\n",
       "    <tr>\n",
       "      <th>0</th>\n",
       "      <td>0</td>\n",
       "      <td>2</td>\n",
       "      <td>30.443518</td>\n",
       "      <td>-1.165083</td>\n",
       "      <td>1</td>\n",
       "      <td>1</td>\n",
       "      <td>3</td>\n",
       "      <td>2</td>\n",
       "      <td>0</td>\n",
       "    </tr>\n",
       "    <tr>\n",
       "      <th>1</th>\n",
       "      <td>0</td>\n",
       "      <td>3</td>\n",
       "      <td>32.159350</td>\n",
       "      <td>-0.645617</td>\n",
       "      <td>2</td>\n",
       "      <td>3</td>\n",
       "      <td>2</td>\n",
       "      <td>2</td>\n",
       "      <td>0</td>\n",
       "    </tr>\n",
       "    <tr>\n",
       "      <th>2</th>\n",
       "      <td>0</td>\n",
       "      <td>2</td>\n",
       "      <td>30.431659</td>\n",
       "      <td>0.133583</td>\n",
       "      <td>1</td>\n",
       "      <td>1</td>\n",
       "      <td>4</td>\n",
       "      <td>2</td>\n",
       "      <td>0</td>\n",
       "    </tr>\n",
       "    <tr>\n",
       "      <th>3</th>\n",
       "      <td>0</td>\n",
       "      <td>0</td>\n",
       "      <td>26.588914</td>\n",
       "      <td>-0.212728</td>\n",
       "      <td>2</td>\n",
       "      <td>1</td>\n",
       "      <td>4</td>\n",
       "      <td>2</td>\n",
       "      <td>0</td>\n",
       "    </tr>\n",
       "    <tr>\n",
       "      <th>4</th>\n",
       "      <td>0</td>\n",
       "      <td>3</td>\n",
       "      <td>28.044332</td>\n",
       "      <td>-0.385883</td>\n",
       "      <td>1</td>\n",
       "      <td>1</td>\n",
       "      <td>2</td>\n",
       "      <td>2</td>\n",
       "      <td>1</td>\n",
       "    </tr>\n",
       "  </tbody>\n",
       "</table>\n",
       "</div>"
      ],
      "text/plain": [
       "   purchase  V1         V2        V3  V4  V5  V6  V7  pro\n",
       "0         0   2  30.443518 -1.165083   1   1   3   2    0\n",
       "1         0   3  32.159350 -0.645617   2   3   2   2    0\n",
       "2         0   2  30.431659  0.133583   1   1   4   2    0\n",
       "3         0   0  26.588914 -0.212728   2   1   4   2    0\n",
       "4         0   3  28.044332 -0.385883   1   1   2   2    1"
      ]
     },
     "execution_count": 4,
     "metadata": {},
     "output_type": "execute_result"
    }
   ],
   "source": [
    "train_data['pro'] = train_data.Promotion.apply(lambda x: 1 if x == 'Yes' else 0)\n",
    "train_data.drop(['Promotion', 'ID'], axis = 1, inplace = True)\n",
    "train_data.head()"
   ]
  },
  {
   "cell_type": "code",
   "execution_count": 5,
   "metadata": {},
   "outputs": [],
   "source": [
    "df = train_data.copy()"
   ]
  },
  {
   "cell_type": "code",
   "execution_count": 6,
   "metadata": {},
   "outputs": [
    {
     "data": {
      "text/plain": [
       "pro\n",
       "0    0.007565\n",
       "1    0.017019\n",
       "Name: purchase, dtype: float64"
      ]
     },
     "execution_count": 6,
     "metadata": {},
     "output_type": "execute_result"
    }
   ],
   "source": [
    "df.groupby('pro').purchase.mean()"
   ]
  },
  {
   "cell_type": "code",
   "execution_count": 18,
   "metadata": {},
   "outputs": [],
   "source": [
    "#hypothesis testing\n",
    "\n",
    "gr0 = df[df.pro == 0].purchase\n",
    "gr1 = df[df.pro == 1].purchase\n",
    "\n",
    "actual_diff = gr1.mean() - gr0.mean()\n",
    "\n",
    "# H0 : mu1 = mu2\n",
    "\n",
    "gr0 = gr0 - gr0.mean() + df.purchase.mean()  # now mu's are equal to each other\n",
    "gr1 = gr1 - gr1.mean() + df.purchase.mean()\n",
    "\n",
    "diffs = []\n",
    "for i in range(5000):\n",
    "    \n",
    "    gr0_sampled = np.random.choice(gr0, gr0.shape[0], replace = True)\n",
    "    gr1_sampled = np.random.choice(gr1, gr1.shape[0], replace = True)\n",
    "    \n",
    "    mu0 = np.mean(gr0_sampled)\n",
    "    mu1 = np.mean(gr1_sampled)\n",
    "    mu_diff = mu1 - mu0\n",
    "    diffs.append(mu_diff)"
   ]
  },
  {
   "cell_type": "code",
   "execution_count": 19,
   "metadata": {},
   "outputs": [
    {
     "data": {
      "image/png": "[encoded data removed]",
      "text/plain": [
       "<matplotlib.figure.Figure at 0x7f179013fba8>"
      ]
     },
     "metadata": {
      "needs_background": "light"
     },
     "output_type": "display_data"
    }
   ],
   "source": [
    "plt.hist(diffs, bins = 20, color = 'lightblue');\n",
    "plt.axvline(actual_diff, color = 'red');\n",
    "# so wee see that p-value is so small such that 10k sample size is not enough to see even a single sample with actual_diff value\n",
    "# we reject the null hypothesis, purchase rate in the sample with promotion code is larger than the value in control group."
   ]
  },
  {
   "cell_type": "code",
   "execution_count": 5,
   "metadata": {},
   "outputs": [
    {
     "data": {
      "image/png": "[encoded data removed]",
      "text/plain": [
       "<matplotlib.figure.Figure at 0x7f12fa100c50>"
      ]
     },
     "metadata": {
      "needs_background": "light"
     },
     "output_type": "display_data"
    }
   ],
   "source": [
    "df[df.purchase == 0].hist(figsize = (10, 9));"
   ]
  },
  {
   "cell_type": "code",
   "execution_count": 6,
   "metadata": {},
   "outputs": [
    {
     "data": {
      "image/png": "[encoded data removed]",
      "text/plain": [
       "<matplotlib.figure.Figure at 0x7f12f9d3e908>"
      ]
     },
     "metadata": {
      "needs_background": "light"
     },
     "output_type": "display_data"
    }
   ],
   "source": [
    "df[df.purchase == 1].hist(figsize = (10, 9));"
   ]
  },
  {
   "cell_type": "code",
   "execution_count": 7,
   "metadata": {},
   "outputs": [
    {
     "data": {
      "image/png": "[encoded data removed]",
      "text/plain": [
       "<matplotlib.figure.Figure at 0x7f12f74679b0>"
      ]
     },
     "metadata": {
      "needs_background": "light"
     },
     "output_type": "display_data"
    }
   ],
   "source": [
    "df[(df.pro == 1) & (df.purchase == 0)].hist(figsize = (10, 9));"
   ]
  },
  {
   "cell_type": "code",
   "execution_count": 8,
   "metadata": {},
   "outputs": [
    {
     "data": {
      "text/plain": [
       "pro  purchase\n",
       "0    0           41851\n",
       "     1             319\n",
       "1    0           41643\n",
       "     1             721\n",
       "dtype: int64"
      ]
     },
     "execution_count": 8,
     "metadata": {},
     "output_type": "execute_result"
    }
   ],
   "source": [
    "df.groupby(['pro', 'purchase']).size()"
   ]
  },
  {
   "cell_type": "code",
   "execution_count": 20,
   "metadata": {},
   "outputs": [
    {
     "name": "stdout",
     "output_type": "stream",
     "text": [
      "Collecting imbalanced-learn\n",
      "  Downloading https://files.pythonhosted.org/packages/e5/4c/7557e1c2e791bd43878f8c82065bddc5798252084f26ef44527c02262af1/imbalanced_learn-0.4.3-py3-none-any.whl (166kB)\n",
      "\u001b[K    100% |████████████████████████████████| 174kB 2.0MB/s ta 0:00:01\n",
      "\u001b[?25hRequirement already satisfied: numpy>=1.8.2 in /opt/conda/lib/python3.6/site-packages (from imbalanced-learn)\n",
      "Requirement already satisfied: scipy>=0.13.3 in /opt/conda/lib/python3.6/site-packages (from imbalanced-learn)\n",
      "Collecting scikit-learn>=0.20 (from imbalanced-learn)\n",
      "  Downloading https://files.pythonhosted.org/packages/0d/3a/b92670f5c368c20329ecc4c255993fae7934564d485c3ed7ea7b8da7f741/scikit_learn-0.20.2-cp36-cp36m-manylinux1_x86_64.whl (5.4MB)\n",
      "\u001b[K    100% |████████████████████████████████| 5.4MB 85kB/s  eta 0:00:01    38% |████████████▌                   | 2.1MB 33.5MB/s eta 0:00:01\n",
      "\u001b[?25hInstalling collected packages: scikit-learn, imbalanced-learn\n",
      "  Found existing installation: scikit-learn 0.19.1\n",
      "    Uninstalling scikit-learn-0.19.1:\n",
      "      Successfully uninstalled scikit-learn-0.19.1\n",
      "Successfully installed imbalanced-learn-0.4.3 scikit-learn-0.20.2\n",
      "\u001b[33mYou are using pip version 9.0.1, however version 19.0.1 is available.\n",
      "You should consider upgrading via the 'pip install --upgrade pip' command.\u001b[0m\n"
     ]
    }
   ],
   "source": [
    "# import necessary modules\n",
    "from sklearn.model_selection import train_test_split, cross_val_score\n",
    "from sklearn.linear_model import LogisticRegression\n",
    "from sklearn.ensemble import RandomForestClassifier, AdaBoostClassifier\n",
    "from sklearn.metrics import roc_auc_score, make_scorer, accuracy_score, recall_score, precision_score, f1_score\n",
    "from sklearn.metrics import classification_report, confusion_matrix, roc_auc_score\n",
    "from sklearn.svm import SVC\n",
    "! pip install imbalanced-learn\n",
    "from imblearn.pipeline import make_pipeline as make_pipeline_imb\n",
    "from imblearn.over_sampling import SMOTE\n",
    "#from imblearn.under_sampling import NearMiss ------------------ sorun var cannot import PyPy\n",
    "#from imblearn.under_sampling import RandomUnderSampler\n",
    "from imblearn.metrics import classification_report_imbalanced\n",
    "\n",
    "import random\n",
    "SEED = random.seed(42)"
   ]
  },
  {
   "cell_type": "code",
   "execution_count": 97,
   "metadata": {},
   "outputs": [],
   "source": [
    "data = df[df.pro == 1]\n",
    "\n",
    "X = data.drop(['pro', 'purchase'], axis = 1)\n",
    "y = data['purchase']\n",
    "\n",
    "X_train, X_test, y_train, y_test = train_test_split(X, y, test_size = 0.25, stratify = y, random_state = SEED)"
   ]
  },
  {
   "cell_type": "code",
   "execution_count": 131,
   "metadata": {},
   "outputs": [],
   "source": [
    "def downsample(X_train, y_train):\n",
    "    idx1 = y_train[y_train == 1].index.tolist()\n",
    "    idx0 = y_train[y_train == 0].index.tolist()\n",
    "    \n",
    "    size = len(idx1)\n",
    "    idx0_down = np.random.choice(idx0, size, replace = False)\n",
    "    idx = np.concatenate([idx1, idx0_down], axis = 0)\n",
    "    np.random.shuffle(idx)\n",
    "    \n",
    "    X_train = X_train.loc[idx, :]\n",
    "    y_train = y_train.loc[idx]\n",
    "    \n",
    "    return X_train, y_train\n",
    "\n",
    "def oversample(X_train, y_train):\n",
    "    idx0 = y_train[y_train == 0].index.tolist()\n",
    "    idx1 = y_train[y_train == 1].index.tolist()\n",
    "        \n",
    "    size = len(idx0)\n",
    "        \n",
    "    idx1_over = np.random.choice(idx1, size, replace = True)\n",
    "    idx = np.concatenate([idx0, idx1_over], axis = 0)\n",
    "    np.random.shuffle(idx)\n",
    "        \n",
    "    X_train = X_train.loc[idx, :]\n",
    "    y_train = y_train.loc[idx]\n",
    "    \n",
    "    return X_train, y_train\n",
    "\n",
    "def do_smote(X_train, y_train):\n",
    "    x_cols = X_train.columns\n",
    "    X_train, y_train = SMOTE(random_state = SEED).fit_sample(X_train, y_train)\n",
    "    X_train = pd.DataFrame(X_train, columns = x_cols)\n",
    "    return X_train, y_train"
   ]
  },
  {
   "cell_type": "code",
   "execution_count": 100,
   "metadata": {},
   "outputs": [],
   "source": [
    "def print_results(y_test, predict_proba, thresh = 0.45):\n",
    "    \n",
    "    pred = (predict_proba > thresh).astype('int')\n",
    "    acc = accuracy_score(y_test, pred)\n",
    "    precision = precision_score(y_test, pred)\n",
    "    recall = recall_score(y_test, pred)\n",
    "    roc_auc = roc_auc_score(y_test, predict_proba)\n",
    "    fscore = f1_score(y_test, pred)\n",
    "    \n",
    "    print(classification_report(y_test, pred))\n",
    "    print('\\n')\n",
    "    print(confusion_matrix(y_test, pred))\n",
    "\n",
    "def downsample(X_train, y_train, X_test, y_test, model, thresh = 0.5):\n",
    "        \n",
    "    model_name = model.__class__.__name__\n",
    "    # downsample\n",
    "    idx1 = y_train[y_train == 1].index.tolist()\n",
    "    idx0 = y_train[y_train == 0].index.tolist()\n",
    "    \n",
    "    size = len(idx1)\n",
    "    idx0_down = np.random.choice(idx0, size, replace = False)\n",
    "    idx = np.concatenate([idx1, idx0_down], axis = 0)\n",
    "    np.random.shuffle(idx)\n",
    "    \n",
    "    X_train = X_train.loc[idx, :]\n",
    "    y_train = y_train.loc[idx]\n",
    "        \n",
    "        \n",
    "    model.fit(X_train, y_train)\n",
    "    predict_proba = model.predict_proba(X_test)[:, 1]\n",
    "        \n",
    "    print(\"Metrics for {} ...\".format(model_name))\n",
    "    print_results(y_test, predict_proba, thresh)\n",
    "        \n",
    "        \n",
    "def oversample(X_train, y_train, X_test, y_test, model, thresh = 0.5):\n",
    "        \n",
    "    model_name = model.__class__.__name__\n",
    "    # oversample\n",
    "    idx0 = y_train[y_train == 0].index.tolist()\n",
    "    idx1 = y_train[y_train == 1].index.tolist()\n",
    "        \n",
    "    size = len(idx0)\n",
    "        \n",
    "    idx1_over = np.random.choice(idx1, size, replace = True)\n",
    "    idx = np.concatenate([idx0, idx1_over], axis = 0)\n",
    "    np.random.shuffle(idx)\n",
    "        \n",
    "    X_train = X_train.loc[idx, :]\n",
    "    y_train = y_train.loc[idx]\n",
    "        \n",
    "    model.fit(X_train, y_train)\n",
    "    predict_proba = model.predict_proba(X_test)[:, 1]\n",
    "        \n",
    "    print(\"Results for {} ...\".format(model_name))\n",
    "    print_results(y_test, predict_proba, thresh)\n",
    "        \n",
    "def doo_smote(X_train, y_train, X_test, y_test, model, thresh = 0.5):\n",
    "        \n",
    "    model_name = model.__class__.__name__\n",
    "    #X_train, y_train = SMOTE(random_state = SEED).fit_sample(X_train, y_train)\n",
    "    #model.fit(X_train, y_train)\n",
    "    #predict_proba = model.predict_proba(X_test)[:, 1]\n",
    "    \n",
    "    #another try\n",
    "    pipeline = make_pipeline_imb(SMOTE(random_state = SEED, ratio = .2), model)\n",
    "    pipeline.fit(X_train, y_train)\n",
    "    predict_proba = pipeline.predict_proba(X_test)[:, 1]\n",
    "        \n",
    "    print(\"Results for {}...\".format(model_name))\n",
    "    print_results(y_test, predict_proba, thresh)\n",
    "    \n",
    "def run_model(X_train, y_train, model, thresh = 0.5):\n",
    "    \n",
    "    model.fit(X_train, y_train)\n",
    "    predict_proba = model.predict_proba(X_test)[:, 1]\n",
    "    print_results(y_test, predict_proba, thresh)\n",
    "    \n",
    "def do_sampling(X_train, y_train, thresh = 0.5):\n",
    "    \n",
    "    funcs = [downsample, oversample, do_smote]\n",
    "    \n",
    "    for func in funcs:\n",
    "\n",
    "        X_train, y_train = func(X_train, y_train)\n",
    "        run_model(X_train, y_train, model, )\n",
    "    \n",
    "    print(\"Over sampling results--------------\")\n",
    "    X_train, y_train = oversample(X_train, y_train)\n",
    "    \n",
    "    print(\"SMOTE results--------------\")\n",
    "    doo_smote(X_train, y_train, X_test, y_test, model)\n",
    "    \n",
    "   "
   ]
  },
  {
   "cell_type": "code",
   "execution_count": 101,
   "metadata": {},
   "outputs": [
    {
     "name": "stdout",
     "output_type": "stream",
     "text": [
      "Down sampling results--------------\n",
      "Metrics for RandomForestClassifier ...\n",
      "             precision    recall  f1-score   support\n",
      "\n",
      "          0       0.99      0.64      0.77      8323\n",
      "          1       0.03      0.60      0.06       150\n",
      "\n",
      "avg / total       0.97      0.64      0.76      8473\n",
      "\n",
      "\n",
      "\n",
      "[[5299 3024]\n",
      " [  60   90]]\n",
      "Over sampling results--------------\n",
      "Results for RandomForestClassifier ...\n",
      "             precision    recall  f1-score   support\n",
      "\n",
      "          0       0.98      0.99      0.99      8323\n",
      "          1       0.07      0.02      0.03       150\n",
      "\n",
      "avg / total       0.97      0.98      0.97      8473\n",
      "\n",
      "\n",
      "\n",
      "[[8280   43]\n",
      " [ 147    3]]\n",
      "SMOTE results--------------\n",
      "Results for RandomForestClassifier...\n",
      "             precision    recall  f1-score   support\n",
      "\n",
      "          0       0.98      0.99      0.99      8323\n",
      "          1       0.02      0.01      0.01       150\n",
      "\n",
      "avg / total       0.97      0.98      0.97      8473\n",
      "\n",
      "\n",
      "\n",
      "[[8275   48]\n",
      " [ 149    1]]\n"
     ]
    }
   ],
   "source": [
    "model = RandomForestClassifier(n_estimators = 300, class_weight ={0:1, 1:100}, random_state = SEED, max_features = 7)\n",
    "sampling_solution(model)"
   ]
  },
  {
   "cell_type": "code",
   "execution_count": 41,
   "metadata": {},
   "outputs": [
    {
     "name": "stdout",
     "output_type": "stream",
     "text": [
      "Collecting xgboost\n",
      "  Downloading https://files.pythonhosted.org/packages/54/21/8b2ec99862903a6d3aed62ce156d21d114b8666e669c46d9e54041df9496/xgboost-0.81-py2.py3-none-manylinux1_x86_64.whl (16.6MB)\n",
      "\u001b[K    100% |████████████████████████████████| 16.6MB 27kB/s  eta 0:00:01   41% |█████████████▎                  | 6.9MB 27.2MB/s eta 0:00:01    51% |████████████████▍               | 8.5MB 34.7MB/s eta 0:00:01    70% |██████████████████████▌         | 11.7MB 30.3MB/s eta 0:00:01    98% |███████████████████████████████▋| 16.4MB 34.5MB/s eta 0:00:01\n",
      "\u001b[?25hRequirement already satisfied: numpy in /opt/conda/lib/python3.6/site-packages (from xgboost)\n",
      "Requirement already satisfied: scipy in /opt/conda/lib/python3.6/site-packages (from xgboost)\n",
      "Installing collected packages: xgboost\n",
      "Successfully installed xgboost-0.81\n",
      "\u001b[33mYou are using pip version 9.0.1, however version 19.0.1 is available.\n",
      "You should consider upgrading via the 'pip install --upgrade pip' command.\u001b[0m\n"
     ]
    }
   ],
   "source": [
    "! pip install xgboost"
   ]
  },
  {
   "cell_type": "code",
   "execution_count": 160,
   "metadata": {},
   "outputs": [],
   "source": [
    "# XGBoost\n",
    "\n",
    "import xgboost as xgb\n",
    "\n",
    "def do_xgboost(X_train, y_train, thresh= 0.5, verbose = 0):\n",
    "    weight = np.zeros(len(y_train))\n",
    "\n",
    "    samples_ratio = sum(y_train == 0) / sum(y_train == 1)\n",
    "\n",
    "    weight[y_train == 0] = 1 / samples_ratio\n",
    "    weight[y_train == 1] = 1  \n",
    "\n",
    "    dtrain = xgb.DMatrix(X_train, label = y_train, weight = weight)\n",
    "    dtest= xgb.DMatrix(X_test)\n",
    "\n",
    "    parameters = {'objective':'binary:logistic',\n",
    "                 'learning_rate': 0.01, \n",
    "                 'max_depth': 3, \n",
    "                 'n_estimators': 100,\n",
    "                  'silent' : 1,\n",
    "                 #'scale_pos_weight' : samples_ratio\n",
    "                 }\n",
    "\n",
    "\n",
    "\n",
    "    xgb_estimator = xgb.train(parameters, dtrain, 10)\n",
    "    xgb_pred = xgb_estimator.predict(dtest)\n",
    "    pred = (xgb_pred >= thresh).astype('int')\n",
    "\n",
    "    acc = accuracy_score(y_test, pred)\n",
    "    precision = precision_score(y_test, pred)\n",
    "    recall = recall_score(y_test, pred)\n",
    "    roc = roc_auc_score(y_test, pred)\n",
    "    \n",
    "    if verbose:\n",
    "              \n",
    "        print('accuracy : {}   precision : {}    recall : {}  roc: {}'.format(acc, precision, recall, roc))\n",
    "        print(confusion_matrix(y_test, pred))\n",
    "    \n",
    "    return xgb_estimator"
   ]
  },
  {
   "cell_type": "code",
   "execution_count": 155,
   "metadata": {},
   "outputs": [],
   "source": [
    "import matplotlib.pyplot as plt"
   ]
  },
  {
   "cell_type": "code",
   "execution_count": 144,
   "metadata": {},
   "outputs": [
    {
     "name": "stderr",
     "output_type": "stream",
     "text": [
      "/opt/conda/lib/python3.6/site-packages/sklearn/metrics/classification.py:1135: UndefinedMetricWarning: Precision is ill-defined and being set to 0.0 due to no predicted samples.\n",
      "  \n"
     ]
    },
    {
     "data": {
      "image/png": "[encoded data removed]",
      "text/plain": [
       "<matplotlib.figure.Figure at 0x7f12f74100b8>"
      ]
     },
     "metadata": {
      "needs_background": "light"
     },
     "output_type": "display_data"
    }
   ],
   "source": [
    "roc_values = []\n",
    "thresh_range = np.arange(0.45, .55 + 0.005, 0.005)\n",
    "for thresh in thresh_range:\n",
    "    acc, pre, rec, roc = do_xgboost(X_train, y_train, thresh)\n",
    "    roc_values.append(roc)\n",
    "    \n",
    "plt.plot(thresh_range, np.array(roc_values));"
   ]
  },
  {
   "cell_type": "code",
   "execution_count": 161,
   "metadata": {},
   "outputs": [
    {
     "name": "stdout",
     "output_type": "stream",
     "text": [
      "accuracy : 0.5767160796903031   precision : 0.02931524830452855    recall : 0.7444444444444445  roc: 0.6591303002166513\n",
      "[[5974 4437]\n",
      " [  46  134]]\n"
     ]
    }
   ],
   "source": [
    "xgb_estimator = do_xgboost(X_train, y_train, thresh = 0.5, verbose = 1)"
   ]
  },
  {
   "cell_type": "code",
   "execution_count": 146,
   "metadata": {},
   "outputs": [],
   "source": [
    "# downsampling with XGBoost\n",
    "def xgboost_downsample(X_train, y_train, thresh = 0.5):\n",
    "    \n",
    "    X_train, y_train = downsample(X_train, y_train)\n",
    "    do_xgboost(X_train, y_train, thresh, 1)\n",
    "    \n",
    "def xgboost_oversample(X_train, y_train, thresh = 0.5):\n",
    "    \n",
    "    X_train, y_train = oversample(X_train, y_train)\n",
    "    do_xgboost(X_train, y_train, thresh, 1)\n",
    "    \n",
    "def xgboost_smote(X_train, y_train, thresh = 0.5):\n",
    "\n",
    "    X_train, y_train = do_smote(X_train, y_train)\n",
    "\n",
    "    do_xgboost(X_train, y_train, thresh, 1)"
   ]
  },
  {
   "cell_type": "code",
   "execution_count": 151,
   "metadata": {},
   "outputs": [
    {
     "name": "stdout",
     "output_type": "stream",
     "text": [
      "accuracy : 0.5465017467661222   precision : 0.027203927183473104    recall : 0.7388888888888889  roc: 0.641032188177035\n",
      "[[5655 4756]\n",
      " [  47  133]]\n",
      "accuracy : 0.5790765744500047   precision : 0.029269366197183098    recall : 0.7388888888888889  roc: 0.6576012017204026\n",
      "[[6000 4411]\n",
      " [  47  133]]\n",
      "accuracy : 0.6924747427060712   precision : 0.027922675667382633    recall : 0.5055555555555555  roc: 0.6006310099360719\n",
      "[[7243 3168]\n",
      " [  89   91]]\n"
     ]
    }
   ],
   "source": [
    "xgboost_downsample(X_train, y_train, 0.5)\n",
    "xgboost_oversample(X_train, y_train, 0.5)\n",
    "xgboost_smote(X_train, y_train, 0.5)"
   ]
  },
  {
   "cell_type": "code",
   "execution_count": 121,
   "metadata": {},
   "outputs": [
    {
     "data": {
      "text/plain": [
       "107.75"
      ]
     },
     "execution_count": 121,
     "metadata": {},
     "output_type": "execute_result"
    }
   ],
   "source": [
    "10 * 132  - 0.15 * 4415 - 10 * 55"
   ]
  },
  {
   "cell_type": "code",
   "execution_count": null,
   "metadata": {},
   "outputs": [],
   "source": [
    "# oversampling with XGBoost\n",
    "\n",
    "idx0 = y_train[y_train == 0].index.tolist()\n",
    "idx1 = y_train[y_train == 1].index.tolist()\n",
    "        \n",
    "size = len(idx0)\n",
    "        \n",
    "idx1_over = np.random.choice(idx1, size, replace = True)\n",
    "idx = np.concatenate([idx0, idx1_over], axis = 0)\n",
    "np.random.shuffle(idx)\n",
    "        \n",
    "X_train = X_train.loc[idx, :]\n",
    "y_train = y_train.loc[idx]\n",
    "\n",
    "do_xgboost(X_train, y_train)"
   ]
  },
  {
   "cell_type": "code",
   "execution_count": 18,
   "metadata": {},
   "outputs": [
    {
     "data": {
      "text/plain": [
       "0.1732394366197183"
      ]
     },
     "execution_count": 18,
     "metadata": {},
     "output_type": "execute_result"
    }
   ],
   "source": []
  },
  {
   "cell_type": "code",
   "execution_count": 11,
   "metadata": {},
   "outputs": [],
   "source": []
  },
  {
   "cell_type": "code",
   "execution_count": 12,
   "metadata": {},
   "outputs": [],
   "source": []
  },
  {
   "cell_type": "code",
   "execution_count": 13,
   "metadata": {},
   "outputs": [],
   "source": [
    "# undersampling\n",
    "\n",
    "samples1 = y[y == 1].index.tolist()\n",
    "samples0 = y[y == 0].index.tolist()\n",
    "\n",
    "size = len(samples1)\n",
    "samples0_under = np.random.choice(samples0, size, replace = False)\n",
    "\n",
    "idx_under = np.concatenate([samples1, samples0_under] , axis= 0)\n",
    "np.random.shuffle(idx_under)\n",
    "X_under = X.loc[idx_under, :]\n",
    "y_under = y.loc[idx_under]\n"
   ]
  },
  {
   "cell_type": "code",
   "execution_count": 14,
   "metadata": {},
   "outputs": [],
   "source": [
    "# oversampling cok fazla overfittig oluyor. Xdeki butun postive case leri yakalayabiliyorken \n",
    "# diger taraftakileri yakalayamiyor.\n",
    "\n",
    "samples1 = y[y == 1].index.tolist()\n",
    "samples0 = y[y == 0].index.tolist()\n",
    "size = len(samples0)\n",
    "samples1_over = np.random.choice(samples1, size, replace = True)\n",
    "\n",
    "idx_over = np.concatenate([samples1_over, samples0], axis = 0)\n",
    "np.random.shuffle(idx_over)\n",
    "\n",
    "X_over = X.loc[idx_over, : ]\n",
    "y_over = y.loc[idx_over]\n"
   ]
  },
  {
   "cell_type": "code",
   "execution_count": 15,
   "metadata": {},
   "outputs": [],
   "source": [
    "X_otrain, X_otest, y_otrain, y_otest = train_test_split(X_over, y_over, test_size = 0.25, random_state = SEED)"
   ]
  },
  {
   "cell_type": "code",
   "execution_count": 16,
   "metadata": {},
   "outputs": [],
   "source": [
    "X_utrain, X_utest, y_utrain, y_utest = train_test_split(X_under, y_under, test_size = 0.25, random_state = SEED)"
   ]
  },
  {
   "cell_type": "code",
   "execution_count": 68,
   "metadata": {},
   "outputs": [],
   "source": [
    "lr = LogisticRegression(n_estimators = 300, random_state= SEED)\n",
    "scorer = make_scorer(roc_auc_score)\n",
    "scores = cross_val_score(lr, X_train, y_train, scoring = scorer, cv = 3)"
   ]
  },
  {
   "cell_type": "code",
   "execution_count": 169,
   "metadata": {},
   "outputs": [
    {
     "data": {
      "text/html": [
       "<div>\n",
       "<style>\n",
       "    .dataframe thead tr:only-child th {\n",
       "        text-align: right;\n",
       "    }\n",
       "\n",
       "    .dataframe thead th {\n",
       "        text-align: left;\n",
       "    }\n",
       "\n",
       "    .dataframe tbody tr th {\n",
       "        vertical-align: top;\n",
       "    }\n",
       "</style>\n",
       "<table border=\"1\" class=\"dataframe\">\n",
       "  <thead>\n",
       "    <tr style=\"text-align: right;\">\n",
       "      <th></th>\n",
       "      <th>V1</th>\n",
       "      <th>V2</th>\n",
       "      <th>V3</th>\n",
       "      <th>V4</th>\n",
       "      <th>V5</th>\n",
       "      <th>V6</th>\n",
       "      <th>V7</th>\n",
       "    </tr>\n",
       "  </thead>\n",
       "  <tbody>\n",
       "    <tr>\n",
       "      <th>49757</th>\n",
       "      <td>1</td>\n",
       "      <td>30.449386</td>\n",
       "      <td>0.133583</td>\n",
       "      <td>2</td>\n",
       "      <td>1</td>\n",
       "      <td>1</td>\n",
       "      <td>2</td>\n",
       "    </tr>\n",
       "    <tr>\n",
       "      <th>15465</th>\n",
       "      <td>1</td>\n",
       "      <td>29.512323</td>\n",
       "      <td>0.306739</td>\n",
       "      <td>1</td>\n",
       "      <td>3</td>\n",
       "      <td>2</td>\n",
       "      <td>2</td>\n",
       "    </tr>\n",
       "    <tr>\n",
       "      <th>3840</th>\n",
       "      <td>2</td>\n",
       "      <td>41.658694</td>\n",
       "      <td>0.393317</td>\n",
       "      <td>2</td>\n",
       "      <td>2</td>\n",
       "      <td>1</td>\n",
       "      <td>2</td>\n",
       "    </tr>\n",
       "    <tr>\n",
       "      <th>18255</th>\n",
       "      <td>2</td>\n",
       "      <td>32.031691</td>\n",
       "      <td>-1.511395</td>\n",
       "      <td>1</td>\n",
       "      <td>3</td>\n",
       "      <td>2</td>\n",
       "      <td>2</td>\n",
       "    </tr>\n",
       "    <tr>\n",
       "      <th>56116</th>\n",
       "      <td>2</td>\n",
       "      <td>38.596251</td>\n",
       "      <td>0.653050</td>\n",
       "      <td>1</td>\n",
       "      <td>1</td>\n",
       "      <td>4</td>\n",
       "      <td>2</td>\n",
       "    </tr>\n",
       "  </tbody>\n",
       "</table>\n",
       "</div>"
      ],
      "text/plain": [
       "       V1         V2        V3  V4  V5  V6  V7\n",
       "49757   1  30.449386  0.133583   2   1   1   2\n",
       "15465   1  29.512323  0.306739   1   3   2   2\n",
       "3840    2  41.658694  0.393317   2   2   1   2\n",
       "18255   2  32.031691 -1.511395   1   3   2   2\n",
       "56116   2  38.596251  0.653050   1   1   4   2"
      ]
     },
     "execution_count": 169,
     "metadata": {},
     "output_type": "execute_result"
    }
   ],
   "source": [
    "X_test.head()"
   ]
  },
  {
   "cell_type": "code",
   "execution_count": 175,
   "metadata": {},
   "outputs": [
    {
     "data": {
      "text/plain": [
       "array(['Yes', 'No', 'No', ..., 'Yes', 'No', 'No'], \n",
       "      dtype='<U3')"
      ]
     },
     "execution_count": 175,
     "metadata": {},
     "output_type": "execute_result"
    }
   ],
   "source": [
    "promotion_strategy(X_test)"
   ]
  },
  {
   "cell_type": "code",
   "execution_count": 174,
   "metadata": {},
   "outputs": [],
   "source": [
    "def promotion_strategy(df):\n",
    "    '''\n",
    "    INPUT \n",
    "    df - a dataframe with *only* the columns V1 - V7 (same as train_data)\n",
    "\n",
    "    OUTPUT\n",
    "    promotion_df - np.array with the values\n",
    "                   'Yes' or 'No' related to whether or not an \n",
    "                   individual should recieve a promotion \n",
    "                   should be the length of df.shape[0]\n",
    "                \n",
    "    Ex:\n",
    "    INPUT: df\n",
    "    \n",
    "    V1\tV2\t  V3\tV4\tV5\tV6\tV7\n",
    "    2\t30\t-1.1\t1\t1\t3\t2\n",
    "    3\t32\t-0.6\t2\t3\t2\t2\n",
    "    2\t30\t0.13\t1\t1\t4\t2\n",
    "    \n",
    "    OUTPUT: promotion\n",
    "    \n",
    "    array(['Yes', 'Yes', 'No'])\n",
    "    indicating the first two users would recieve the promotion and \n",
    "    the last should not.\n",
    "    '''\n",
    "    dtest = xgb.DMatrix(df)\n",
    "    pred_xgb = xgb_estimator.predict(dtest)\n",
    "    pred = (pred_xgb > 0.5).astype('int')\n",
    "    pro = np.zeros(df.shape[0])\n",
    "    pro[pred == 1] = 1\n",
    "    pro[pred == 0] = 0\n",
    "    \n",
    "    promotion = np.where(pro == 1, 'Yes', 'No')\n",
    "    \n",
    "    return promotion"
   ]
  },
  {
   "cell_type": "code",
   "execution_count": 176,
   "metadata": {},
   "outputs": [
    {
     "name": "stdout",
     "output_type": "stream",
     "text": [
      "Nice job!  See how well your strategy worked on our test data below!\n",
      "\n",
      "Your irr with this strategy is 0.0195.\n",
      "\n",
      "Your nir with this strategy is 396.45.\n",
      "We came up with a model with an irr of 0.0188 and an nir of 189.45 on the test set.\n",
      "\n",
      " How did you do?\n"
     ]
    },
    {
     "data": {
      "text/plain": [
       "(0.019506350838739649, 396.45000000000005)"
      ]
     },
     "execution_count": 176,
     "metadata": {},
     "output_type": "execute_result"
    }
   ],
   "source": [
    "# This will test your results, and provide you back some information \n",
    "# on how well your promotion_strategy will work in practice\n",
    "\n",
    "test_results(promotion_strategy)"
   ]
  },
  {
   "cell_type": "code",
   "execution_count": null,
   "metadata": {},
   "outputs": [],
   "source": []
  }
 ],
 "metadata": {
  "kernelspec": {
   "display_name": "Python 3",
   "language": "python",
   "name": "python3"
  },
  "language_info": {
   "codemirror_mode": {
    "name": "ipython",
    "version": 3
   },
   "file_extension": ".py",
   "mimetype": "text/x-python",
   "name": "python",
   "nbconvert_exporter": "python",
   "pygments_lexer": "ipython3",
   "version": "3.6.5"
  }
 },
 "nbformat": 4,
 "nbformat_minor": 2
}
